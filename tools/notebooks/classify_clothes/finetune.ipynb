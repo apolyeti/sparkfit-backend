{
 "cells": [
  {
   "cell_type": "markdown",
   "id": "8cd1cdb7-444c-41b6-a192-2c3dd1ffe6ee",
   "metadata": {},
   "source": [
    "# Import libraries"
   ]
  },
  {
   "cell_type": "code",
   "execution_count": null,
   "id": "324c5e47-f2fa-4a22-841c-fddfd2146f02",
   "metadata": {},
   "outputs": [],
   "source": [
    "import numpy as np\n",
    "from tensorflow.keras.applications import EfficientNetB1\n",
    "import tensorflow as tf\n",
    "import tensorflow_datasets as tfds\n",
    "import matplotlib.pyplot as plt\n",
    "import numpy as np\n",
    "print(tf.__version__)"
   ]
  },
  {
   "cell_type": "code",
   "execution_count": null,
   "id": "1bdb054e-6c8f-4bd8-875d-79b386ed11be",
   "metadata": {},
   "outputs": [],
   "source": [
    "img_size = 240\n",
    "num_classes = 16"
   ]
  },
  {
   "cell_type": "code",
   "execution_count": null,
   "id": "98044a04-a9f1-4ca8-a235-d23f67c40938",
   "metadata": {
    "scrolled": true
   },
   "outputs": [],
   "source": [
    "model = EfficientNetB1(\n",
    "        include_top=False,\n",
    "        classes=num_classes,\n",
    "        input_shape=(img_size, img_size, 3),\n",
    "        weights='imagenet',\n",
    "        drop_connect_rate=0.4\n",
    ")\n",
    "model.compile(optimizer=\"adam\", loss=\"categorical_crossentropy\", metrics=['accuracy'])\n",
    "\n",
    "model.summary()"
   ]
  },
  {
   "cell_type": "markdown",
   "id": "55ecbdae-e093-4a5d-a707-5aaa9b2528ce",
   "metadata": {},
   "source": [
    "# Import tensorflow fashion_mnist dataset"
   ]
  },
  {
   "cell_type": "code",
   "execution_count": null,
   "id": "6dd6f9fe-36d0-4796-9fe0-ca643ff19f46",
   "metadata": {},
   "outputs": [],
   "source": [
    "fashion_mnist = tf.keras.datasets.fashion_mnist\n",
    "\n",
    "(train_images, train_labels), (test_images, test_labels) = fashion_mnist.load_data()"
   ]
  },
  {
   "cell_type": "code",
   "execution_count": null,
   "id": "e4f01492-e0a9-4041-b234-0ca2455f1028",
   "metadata": {},
   "outputs": [],
   "source": [
    "class_names = ['T-shirt/top', 'Trouser', 'Pullover', 'Dress', 'Coat','Sandal', 'Shirt', 'Sneaker', 'Bag', 'Ankle boot']"
   ]
  },
  {
   "cell_type": "markdown",
   "id": "90282275-5ab2-49bf-a84f-0d618dd46214",
   "metadata": {},
   "source": [
    "## Begin with preprocessing of data"
   ]
  },
  {
   "cell_type": "code",
   "execution_count": null,
   "id": "a80ff805-2d3e-4eca-8bd7-167bedb8a2ed",
   "metadata": {},
   "outputs": [],
   "source": [
    "plt.figure()\n",
    "plt.imshow(train_images[1])\n",
    "plt.colorbar()\n",
    "plt.grid(False)\n",
    "plt.show()"
   ]
  },
  {
   "cell_type": "code",
   "execution_count": null,
   "id": "1a0aed83-4e9f-4d68-8b6d-6fed633b20fa",
   "metadata": {},
   "outputs": [],
   "source": [
    "train_images = train_images / 255.0\n",
    "test_images = test_images / 255.0"
   ]
  },
  {
   "cell_type": "code",
   "execution_count": null,
   "id": "56038ca3-8dd5-41a2-9532-188a0bb4357c",
   "metadata": {},
   "outputs": [],
   "source": [
    "plt.figure(figsize=(10,10))\n",
    "for i in range(25):\n",
    "    plt.subplot(5, 5, i+1)\n",
    "    plt.xticks([])\n",
    "    plt.yticks([])\n",
    "    plt.grid(False)\n",
    "    plt.imshow(train_images[i], cmap=plt.cm.binary)\n",
    "    plt.xlabel(class_names[train_labels[i]])\n",
    "plt.show()"
   ]
  },
  {
   "cell_type": "code",
   "execution_count": null,
   "id": "fd788de6-4c1b-4952-860a-11a545f9afa9",
   "metadata": {},
   "outputs": [],
   "source": [
    "from tensorflow.keras.layers import Dense, Flatten, Input, Dropout\n",
    "from tensorflow.keras.regularizers import L1, L2"
   ]
  },
  {
   "cell_type": "code",
   "execution_count": null,
   "id": "84dcafad-7abb-4072-8615-bed7ef008bdc",
   "metadata": {},
   "outputs": [],
   "source": [
    "model = tf.keras.Sequential([\n",
    "    Flatten(input_shape=(28,28)),\n",
    "    Dense(512, \n",
    "          activation='relu'),\n",
    "    Dense(256,\n",
    "          activation='relu'),\n",
    "    Dropout(0.5),\n",
    "    Dense(128,\n",
    "          activation='relu'),\n",
    "    Dense(10)\n",
    "])"
   ]
  },
  {
   "cell_type": "markdown",
   "id": "7f9bd4d9-c852-481a-bd96-f106e3923101",
   "metadata": {},
   "source": [
    "Here, the Sequentual model is making use of 4 layers:\n",
    "- Input: the top layer in which it would like to take in the dimensions of said images\n",
    "- Flatten: the layer in which grabs the 28x28 pixel images, and flattens them into one 2D tensor\n",
    "- Dense(128), a 128 neuron layer that will process the pixels of these images\n",
    "- Dense(10) a 10 neuron layer that will determine the classification of the clothing item"
   ]
  },
  {
   "cell_type": "markdown",
   "id": "b9cae891-e67b-402f-a832-2d559878eb0b",
   "metadata": {},
   "source": [
    "## Compile the model"
   ]
  },
  {
   "cell_type": "code",
   "execution_count": null,
   "id": "5997397c-a326-4cbd-97bf-0527d7ebb907",
   "metadata": {},
   "outputs": [],
   "source": [
    "model.compile(optimizer='adam',\n",
    "              loss=tf.keras.losses.SparseCategoricalCrossentropy(from_logits=True),\n",
    "              metrics=['accuracy'])"
   ]
  },
  {
   "cell_type": "code",
   "execution_count": null,
   "id": "acd4a32f-b5d9-4fec-8f74-99511e799a7c",
   "metadata": {},
   "outputs": [],
   "source": [
    "model.fit(train_images, \n",
    "          train_labels, \n",
    "          epochs=10)"
   ]
  },
  {
   "cell_type": "code",
   "execution_count": null,
   "id": "95c59e72-0f8b-402d-95b8-f819ba08b0b2",
   "metadata": {},
   "outputs": [],
   "source": [
    "test_loss, test_acc = model.evaluate(test_images, test_labels, verbose=2)\n",
    "\n",
    "print('test acc:', test_acc)"
   ]
  },
  {
   "cell_type": "code",
   "execution_count": null,
   "id": "dad9a84e-cd34-4055-9308-c956ed724c1c",
   "metadata": {},
   "outputs": [],
   "source": [
    "img = test_images[1]\n",
    "img.shape"
   ]
  },
  {
   "cell_type": "code",
   "execution_count": null,
   "id": "1b0b263c-029c-4b23-b2a9-dd5132d92584",
   "metadata": {},
   "outputs": [],
   "source": [
    "img = (np.expand_dims(img, 0))\n",
    "img.shape"
   ]
  },
  {
   "cell_type": "code",
   "execution_count": null,
   "id": "687a49d5-d6e0-437a-bd59-d4820d2800c0",
   "metadata": {},
   "outputs": [],
   "source": [
    "probability_model = tf.keras.Sequential([\n",
    "    model,\n",
    "    tf.keras.layers.Softmax()\n",
    "])\n",
    "\n",
    "predictions = probability_model.predict(test_images)"
   ]
  },
  {
   "cell_type": "code",
   "execution_count": null,
   "id": "67930115-8237-4ef0-8276-593120ff50be",
   "metadata": {},
   "outputs": [],
   "source": [
    "predictions[0]"
   ]
  },
  {
   "cell_type": "code",
   "execution_count": null,
   "id": "c48c3a8b-c98f-4a90-93d1-61aad366197e",
   "metadata": {},
   "outputs": [],
   "source": [
    "np.argmax(predictions[0])"
   ]
  },
  {
   "cell_type": "code",
   "execution_count": null,
   "id": "21c2d58c-7622-48c9-a75c-0b0471d47eb3",
   "metadata": {},
   "outputs": [],
   "source": [
    "test_labels[0]"
   ]
  },
  {
   "cell_type": "code",
   "execution_count": null,
   "id": "9b0bf39b-fc80-4aea-b6e4-b4daa172fac5",
   "metadata": {},
   "outputs": [],
   "source": [
    "class_names[9]"
   ]
  },
  {
   "cell_type": "markdown",
   "id": "2364fac7-6127-4d0c-aaba-b6dfcd8d2f1d",
   "metadata": {},
   "source": [
    "As we can see, the model predicted it correctly\n",
    "continue this project with these [docs](https://tensorflow.org/tutorials/keras/classification)"
   ]
  },
  {
   "cell_type": "code",
   "execution_count": null,
   "id": "411245cc-9b34-4232-8d8b-877af301d53a",
   "metadata": {},
   "outputs": [],
   "source": [
    "def plot_image(i, predictions_array, true_label, img):\n",
    "  true_label, img = true_label[i], img[i]\n",
    "  plt.grid(False)\n",
    "  plt.xticks([])\n",
    "  plt.yticks([])\n",
    "\n",
    "  plt.imshow(img, cmap=plt.cm.binary)\n",
    "\n",
    "  predicted_label = np.argmax(predictions_array)\n",
    "  if predicted_label == true_label:\n",
    "    color = 'blue'\n",
    "  else:\n",
    "    color = 'red'\n",
    "\n",
    "  plt.xlabel(\"{} {:2.0f}% ({})\".format(class_names[predicted_label],\n",
    "                                100*np.max(predictions_array),\n",
    "                                class_names[true_label]),\n",
    "                                color=color)\n",
    "\n",
    "def plot_value_array(i, predictions_array, true_label):\n",
    "  true_label = true_label[i]\n",
    "  plt.grid(False)\n",
    "  plt.xticks(range(10))\n",
    "  plt.yticks([])\n",
    "  thisplot = plt.bar(range(10), predictions_array, color=\"#777777\")\n",
    "  plt.ylim([0, 1])\n",
    "  predicted_label = np.argmax(predictions_array)\n",
    "\n",
    "  thisplot[predicted_label].set_color('red')\n",
    "  thisplot[true_label].set_color('blue')"
   ]
  },
  {
   "cell_type": "code",
   "execution_count": null,
   "id": "e2e07bd2-7222-4f51-923e-115a61cdc727",
   "metadata": {},
   "outputs": [],
   "source": [
    "i = 0\n",
    "plt.figure(figsize=(6,3))\n",
    "plt.subplot(1,2,1)\n",
    "plot_image(i, predictions[i], test_labels, test_images)\n",
    "plt.subplot(1,2,2)\n",
    "plot_value_array(i, predictions[i],  test_labels)\n",
    "plt.show()"
   ]
  },
  {
   "cell_type": "code",
   "execution_count": null,
   "id": "c8e51349-09f8-4535-94d0-50d17915b1aa",
   "metadata": {},
   "outputs": [],
   "source": [
    "i = 12\n",
    "plt.figure(figsize=(6,3))\n",
    "plt.subplot(1,2,1)\n",
    "plot_image(i, predictions[i], test_labels, test_images)\n",
    "plt.subplot(1,2,2)\n",
    "plot_value_array(i, predictions[i],  test_labels)\n",
    "plt.show()"
   ]
  },
  {
   "cell_type": "code",
   "execution_count": null,
   "id": "fda4da60-0af6-43a3-a64c-94cc39b8c5ab",
   "metadata": {},
   "outputs": [],
   "source": [
    "# Plot the first X test images, their predicted labels, and the true labels.\n",
    "# Color correct predictions in blue and incorrect predictions in red.\n",
    "num_rows = 5\n",
    "num_cols = 3\n",
    "num_images = num_rows*num_cols\n",
    "plt.figure(figsize=(2*2*num_cols, 2*num_rows))\n",
    "for i in range(num_images):\n",
    "  plt.subplot(num_rows, 2*num_cols, 2*i+1)\n",
    "  plot_image(i, predictions[i], test_labels, test_images)\n",
    "  plt.subplot(num_rows, 2*num_cols, 2*i+2)\n",
    "  plot_value_array(i, predictions[i], test_labels)\n",
    "plt.tight_layout()\n",
    "plt.show()"
   ]
  },
  {
   "cell_type": "code",
   "execution_count": null,
   "id": "f8dc8d8c-f0df-49e0-b3eb-411b21629750",
   "metadata": {},
   "outputs": [],
   "source": [
    "# Grab an image from the test dataset.\n",
    "img = test_images[1]\n",
    "\n",
    "print(img.shape)"
   ]
  },
  {
   "cell_type": "code",
   "execution_count": null,
   "id": "39cd5525-a1f4-42b4-b8ce-653861ce72e4",
   "metadata": {},
   "outputs": [],
   "source": [
    "# Add the image to a batch where it's the only member.\n",
    "img = (np.expand_dims(img,0))\n",
    "\n",
    "print(img.shape)"
   ]
  },
  {
   "cell_type": "code",
   "execution_count": null,
   "id": "07ef23d0-79fa-4fa5-89a5-e95e8534f3f0",
   "metadata": {},
   "outputs": [],
   "source": [
    "predictions_single = probability_model.predict(img)\n",
    "\n",
    "print(predictions_single)"
   ]
  },
  {
   "cell_type": "code",
   "execution_count": null,
   "id": "c32cc717-e6ad-436e-8867-78855f489fc4",
   "metadata": {},
   "outputs": [],
   "source": [
    "plot_value_array(1, predictions_single[0], test_labels)\n",
    "_ = plt.xticks(range(10), class_names, rotation=45)\n",
    "plt.show()"
   ]
  },
  {
   "cell_type": "code",
   "execution_count": null,
   "id": "566e051d-8b2c-4007-b98c-0cb83f954991",
   "metadata": {},
   "outputs": [],
   "source": [
    "pred = np.argmax(predictions_single[0])\n",
    "pred"
   ]
  },
  {
   "cell_type": "code",
   "execution_count": null,
   "id": "c7dfe811-7be2-47c3-8f9e-27173ce5a595",
   "metadata": {},
   "outputs": [],
   "source": [
    "# Or, with the class names that we have,\n",
    "class_names[pred]"
   ]
  },
  {
   "cell_type": "code",
   "execution_count": null,
   "id": "900946bd-acd5-460e-876b-72e0487f23f1",
   "metadata": {},
   "outputs": [],
   "source": [
    "# save this model using tfjs converter\n",
    "# import tensorflowjs as tfjs"
   ]
  },
  {
   "cell_type": "code",
   "execution_count": null,
   "id": "67888a9e-b60f-422d-874f-873007d4e308",
   "metadata": {},
   "outputs": [],
   "source": [
    "model.save('../models/classify_clothes/classify_clothes.keras')"
   ]
  },
  {
   "cell_type": "code",
   "execution_count": null,
   "id": "bd9d4804-d96d-4055-b682-e65137aee90c",
   "metadata": {},
   "outputs": [],
   "source": []
  }
 ],
 "metadata": {
  "kernelspec": {
   "display_name": "Python 3 (ipykernel)",
   "language": "python",
   "name": "python3"
  },
  "language_info": {
   "codemirror_mode": {
    "name": "ipython",
    "version": 3
   },
   "file_extension": ".py",
   "mimetype": "text/x-python",
   "name": "python",
   "nbconvert_exporter": "python",
   "pygments_lexer": "ipython3",
   "version": "3.12.4"
  }
 },
 "nbformat": 4,
 "nbformat_minor": 5
}
