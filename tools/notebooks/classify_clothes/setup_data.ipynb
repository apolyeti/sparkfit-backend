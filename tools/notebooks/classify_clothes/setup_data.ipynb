{
 "cells": [
  {
   "cell_type": "markdown",
   "metadata": {},
   "source": [
    "# Import libraries"
   ]
  },
  {
   "cell_type": "code",
   "execution_count": null,
   "metadata": {},
   "outputs": [],
   "source": [
    "import pandas as pd\n",
    "import tensorflow as tf\n",
    "import cv2 as cv\n",
    "import os\n",
    "import numpy as np\n",
    "from matplotlib import pyplot as plt\n",
    "from PIL import Image"
   ]
  },
  {
   "cell_type": "code",
   "execution_count": null,
   "metadata": {},
   "outputs": [],
   "source": [
    "# goal: separate each image and put its label into its respective folder\n",
    "# example: shirts would go into a folder called shirts, pants would go into a folder called pants, etc.\n",
    "\n",
    "# load the csv file\n",
    "data = pd.read_csv('../data/images/images.csv')\n",
    "data\n",
    "\n",
    "# drop all rows where kids=True\n",
    "data = data[data['kids'] == False]\n",
    "# drop kids column\n",
    "data = data.drop(columns=['kids'])\n",
    "\n",
    "# drop all rows where label is Not Sure\n",
    "data = data[data['label'] != 'Not sure']\n",
    "\n",
    "# drop all rows where label is None \n",
    "data = data[data['label'] != 'None']\n",
    "\n",
    "# drop all rows where label is Other\n",
    "data = data[data['label'] != 'Other']\n",
    "\n",
    "# drop all rows where label is Skip\n",
    "data = data[data['label'] != 'Skip']\n",
    "\n",
    "data\n",
    "\n",
    "\n"
   ]
  },
  {
   "cell_type": "code",
   "execution_count": null,
   "metadata": {
    "collapsed": true,
    "jupyter": {
     "outputs_hidden": true
    },
    "scrolled": true
   },
   "outputs": [],
   "source": [
    "# create a directory for each label\n",
    "labels = data['label'].unique()\n",
    "for label in labels:\n",
    "    os.makedirs(f'../data/clothes/{label}', exist_ok=True)\n",
    "\n",
    "# iterate through each row in the csv file\n",
    "for index, row in data.iterrows():\n",
    "    # get the image and label\n",
    "    image = row['image']\n",
    "    label = row['label']\n",
    "\n",
    "    # write the image to the respective folder\n",
    "    with open(f'../data/clothes/{label}/{image}.jpg', 'wb') as f:\n",
    "        # get the image data from images_original/image.jpg\n",
    "        image_data = tf.io.read_file(f'../data/images/images_original/{image}.jpg')\n",
    "        f.write(image_data.numpy())\n",
    "    \n",
    "    print(f'Wrote {image}.jpg to ../data/clothes/{label}')\n",
    "\n",
    "print('Done')"
   ]
  },
  {
   "cell_type": "code",
   "execution_count": null,
   "metadata": {
    "scrolled": true
   },
   "outputs": [],
   "source": [
    "clothes_path = os.path.join('../data/clothes')\n",
    "clothes_path\n",
    "clothes = tf.keras.utils.image_dataset_from_directory(clothes_path)\n",
    "clothes"
   ]
  },
  {
   "cell_type": "code",
   "execution_count": null,
   "metadata": {},
   "outputs": [],
   "source": [
    "data_iterator = clothes.as_numpy_iterator()\n",
    "data_iterator"
   ]
  },
  {
   "cell_type": "code",
   "execution_count": null,
   "metadata": {},
   "outputs": [],
   "source": [
    "batch = data_iterator.next()\n",
    "len(batch)"
   ]
  },
  {
   "cell_type": "code",
   "execution_count": null,
   "metadata": {
    "scrolled": true
   },
   "outputs": [],
   "source": [
    "batch"
   ]
  },
  {
   "cell_type": "code",
   "execution_count": null,
   "metadata": {},
   "outputs": [],
   "source": [
    "batch[1]"
   ]
  },
  {
   "cell_type": "code",
   "execution_count": null,
   "metadata": {},
   "outputs": [],
   "source": [
    "fig, ax = plt.subplots(ncols=10, figsize=(20,20))\n",
    "for idx, img in enumerate(batch[0][:10]):\n",
    "    ax[idx].imshow(img.astype(int))\n",
    "    ax[idx].title.set_text(batch[1][idx])"
   ]
  },
  {
   "cell_type": "code",
   "execution_count": null,
   "metadata": {},
   "outputs": [],
   "source": []
  }
 ],
 "metadata": {
  "kernelspec": {
   "display_name": "Python 3 (ipykernel)",
   "language": "python",
   "name": "python3"
  },
  "language_info": {
   "codemirror_mode": {
    "name": "ipython",
    "version": 3
   },
   "file_extension": ".py",
   "mimetype": "text/x-python",
   "name": "python",
   "nbconvert_exporter": "python",
   "pygments_lexer": "ipython3",
   "version": "3.12.4"
  }
 },
 "nbformat": 4,
 "nbformat_minor": 4
}
