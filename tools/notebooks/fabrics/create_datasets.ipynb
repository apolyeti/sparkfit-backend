{
 "cells": [
  {
   "cell_type": "markdown",
   "id": "8ceefe0e-ec78-4ee9-b6f2-ac5622826c4d",
   "metadata": {},
   "source": [
    "# Create datasets for clothing fabrics"
   ]
  },
  {
   "cell_type": "markdown",
   "id": "92d22762-124d-4b59-8c38-da7ca73696e6",
   "metadata": {},
   "source": [
    "## First, grab plenty of images of various clothes under a certain fabric."
   ]
  },
  {
   "cell_type": "code",
   "execution_count": 3,
   "id": "4e74535c-4e88-47ed-811a-99a187a8bb10",
   "metadata": {},
   "outputs": [],
   "source": [
    "import tensorflow as tf\n",
    "import os"
   ]
  },
  {
   "cell_type": "code",
   "execution_count": 4,
   "id": "be8cba79-e488-409b-a878-9aaddd4c3c4a",
   "metadata": {},
   "outputs": [
    {
     "data": {
      "text/plain": [
       "['classes.txt',\n",
       " 'create_datasets.ipynb',\n",
       " 'jeans.jpeg',\n",
       " '.ipynb_checkpoints',\n",
       " 'setup_efficientnet.ipynb']"
      ]
     },
     "execution_count": 4,
     "metadata": {},
     "output_type": "execute_result"
    }
   ],
   "source": []
  },
  {
   "cell_type": "code",
   "execution_count": null,
   "id": "226f7aba-c84e-4f31-8085-a950c640fca7",
   "metadata": {},
   "outputs": [],
   "source": []
  }
 ],
 "metadata": {
  "kernelspec": {
   "display_name": "Python 3 (ipykernel)",
   "language": "python",
   "name": "python3"
  },
  "language_info": {
   "codemirror_mode": {
    "name": "ipython",
    "version": 3
   },
   "file_extension": ".py",
   "mimetype": "text/x-python",
   "name": "python",
   "nbconvert_exporter": "python",
   "pygments_lexer": "ipython3",
   "version": "3.11.8"
  }
 },
 "nbformat": 4,
 "nbformat_minor": 5
}
