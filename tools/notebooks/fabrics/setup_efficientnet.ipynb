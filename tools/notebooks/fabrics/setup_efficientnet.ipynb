{
 "cells": [
  {
   "cell_type": "markdown",
   "id": "facbd638-6460-4c7c-bec2-b600c137abdc",
   "metadata": {},
   "source": [
    "# Load libraries and model"
   ]
  },
  {
   "cell_type": "code",
   "execution_count": null,
   "id": "4e47d1ab-79ab-4a6a-a825-ac2007c2c4fa",
   "metadata": {},
   "outputs": [],
   "source": [
    "from tensorflow.keras.applications import EfficientNetB1\n",
    "from tensorflow.keras.preprocessing import image\n",
    "from tensorflow.keras.applications.efficientnet import preprocess_input, decode_predictions\n",
    "from tensorflow.keras import layers, models\n",
    "import numpy as np"
   ]
  },
  {
   "cell_type": "markdown",
   "id": "31ff7164-7834-4c51-8827-ab283fd1a245",
   "metadata": {},
   "source": [
    "# Load class names"
   ]
  },
  {
   "cell_type": "code",
   "execution_count": null,
   "id": "cbc9c96a-314b-4a2b-8ea5-2d78707d9aa9",
   "metadata": {},
   "outputs": [],
   "source": [
    "class_names = []"
   ]
  },
  {
   "cell_type": "code",
   "execution_count": null,
   "id": "7aaaaea1-ebc9-4ba4-b397-6fd409beaa5f",
   "metadata": {},
   "outputs": [],
   "source": [
    "with open('classes.txt', 'r') as f:\n",
    "    for line in f:\n",
    "        class_names.append(line.strip())\n",
    "\n",
    "num_classes = len(class_names)"
   ]
  },
  {
   "cell_type": "code",
   "execution_count": null,
   "id": "63e06fe8-fa9a-459d-8061-685b177c688d",
   "metadata": {},
   "outputs": [],
   "source": [
    "class_names, num_classes # Check to see if we got them"
   ]
  },
  {
   "cell_type": "markdown",
   "id": "9e859def-f3e3-4dde-b33b-16d385629ec4",
   "metadata": {},
   "source": [
    "# Load EfficientNet Model"
   ]
  },
  {
   "cell_type": "code",
   "execution_count": null,
   "id": "e201ac99-cf02-4bf6-b072-4aa1adbb57aa",
   "metadata": {},
   "outputs": [],
   "source": [
    "base_model = EfficientNetB1(\n",
    "                weights=\"imagenet\", \n",
    "                include_top=False,\n",
    "                input_shape=(240,240,3))"
   ]
  },
  {
   "cell_type": "code",
   "execution_count": null,
   "id": "d692421e-3a60-445a-96f4-a76013a9a1cc",
   "metadata": {},
   "outputs": [],
   "source": [
    "# Now create our model\n",
    "model = models.Sequential([\n",
    "            base_model,\n",
    "            layers.GlobalAveragePooling2D(),\n",
    "            layers.Dense(256, activation='relu'),\n",
    "            layers.Dropout(0.5),\n",
    "            layers.Dense(num_classes, activation='softmax')\n",
    "])"
   ]
  },
  {
   "cell_type": "code",
   "execution_count": null,
   "id": "225b951e-52cf-48f6-9777-c82f80f6b29c",
   "metadata": {},
   "outputs": [],
   "source": [
    "model.summary()"
   ]
  },
  {
   "cell_type": "code",
   "execution_count": null,
   "id": "7ca1c41c-29f8-4444-a4eb-eaaeffaeee4a",
   "metadata": {},
   "outputs": [],
   "source": []
  }
 ],
 "metadata": {
  "kernelspec": {
   "display_name": "Python 3 (ipykernel)",
   "language": "python",
   "name": "python3"
  },
  "language_info": {
   "codemirror_mode": {
    "name": "ipython",
    "version": 3
   },
   "file_extension": ".py",
   "mimetype": "text/x-python",
   "name": "python",
   "nbconvert_exporter": "python",
   "pygments_lexer": "ipython3",
   "version": "3.11.8"
  }
 },
 "nbformat": 4,
 "nbformat_minor": 5
}
